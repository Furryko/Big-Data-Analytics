{
  "nbformat": 4,
  "nbformat_minor": 0,
  "metadata": {
    "colab": {
      "provenance": []
    },
    "kernelspec": {
      "name": "python3",
      "display_name": "Python 3"
    },
    "language_info": {
      "name": "python"
    }
  },
  "cells": [
    {
      "cell_type": "code",
      "execution_count": 208,
      "metadata": {
        "id": "W9loHbuk2UZr"
      },
      "outputs": [],
      "source": [
        "import numpy as np\n",
        "import tensorflow as tf\n",
        "import random\n",
        "import pandas as pd\n",
        "import matplotlib.pyplot as plt\n",
        "from sklearn.preprocessing import MinMaxScaler\n",
        "from sklearn.model_selection import train_test_split\n",
        "from sklearn.metrics import mean_absolute_error, r2_score\n",
        "from tensorflow.keras.models import Sequential\n",
        "from tensorflow.keras.layers import Dense"
      ]
    },
    {
      "cell_type": "code",
      "source": [
        "# Set seed for reproducibility\n",
        "seed_value = 42\n",
        "np.random.seed(seed_value)\n",
        "tf.random.set_seed(seed_value)\n",
        "random.seed(seed_value)"
      ],
      "metadata": {
        "id": "DBYDYZV4OaUL"
      },
      "execution_count": 209,
      "outputs": []
    },
    {
      "cell_type": "code",
      "source": [
        "# Load the CSV file with semicolon separator\n",
        "file_path = 'GPU_Price_Index.csv'\n",
        "data = pd.read_csv(file_path, sep=';')\n",
        "data.head()"
      ],
      "metadata": {
        "colab": {
          "base_uri": "https://localhost:8080/",
          "height": 206
        },
        "id": "9rS5AgWG2cTK",
        "outputId": "7b9a2f65-08db-49c8-9771-21a41665713c"
      },
      "execution_count": 210,
      "outputs": [
        {
          "output_type": "execute_result",
          "data": {
            "text/plain": [
              "                   GPU Model  Best US Price  Lowest-Ever US Price\n",
              "0           GeForce RTX 4090          1.699                 1.599\n",
              "1     GeForce RTX 4080 Super        982.000               982.000\n",
              "2           GeForce RTX 4080          1.029               989.000\n",
              "3  GeForce RTX 4070 Ti Super        749.000               749.000\n",
              "4        GeForce RTX 4070 Ti        699.000               649.000"
            ],
            "text/html": [
              "\n",
              "  <div id=\"df-60f7751d-bd73-4e18-a8f5-ce6eaa07d073\" class=\"colab-df-container\">\n",
              "    <div>\n",
              "<style scoped>\n",
              "    .dataframe tbody tr th:only-of-type {\n",
              "        vertical-align: middle;\n",
              "    }\n",
              "\n",
              "    .dataframe tbody tr th {\n",
              "        vertical-align: top;\n",
              "    }\n",
              "\n",
              "    .dataframe thead th {\n",
              "        text-align: right;\n",
              "    }\n",
              "</style>\n",
              "<table border=\"1\" class=\"dataframe\">\n",
              "  <thead>\n",
              "    <tr style=\"text-align: right;\">\n",
              "      <th></th>\n",
              "      <th>GPU Model</th>\n",
              "      <th>Best US Price</th>\n",
              "      <th>Lowest-Ever US Price</th>\n",
              "    </tr>\n",
              "  </thead>\n",
              "  <tbody>\n",
              "    <tr>\n",
              "      <th>0</th>\n",
              "      <td>GeForce RTX 4090</td>\n",
              "      <td>1.699</td>\n",
              "      <td>1.599</td>\n",
              "    </tr>\n",
              "    <tr>\n",
              "      <th>1</th>\n",
              "      <td>GeForce RTX 4080 Super</td>\n",
              "      <td>982.000</td>\n",
              "      <td>982.000</td>\n",
              "    </tr>\n",
              "    <tr>\n",
              "      <th>2</th>\n",
              "      <td>GeForce RTX 4080</td>\n",
              "      <td>1.029</td>\n",
              "      <td>989.000</td>\n",
              "    </tr>\n",
              "    <tr>\n",
              "      <th>3</th>\n",
              "      <td>GeForce RTX 4070 Ti Super</td>\n",
              "      <td>749.000</td>\n",
              "      <td>749.000</td>\n",
              "    </tr>\n",
              "    <tr>\n",
              "      <th>4</th>\n",
              "      <td>GeForce RTX 4070 Ti</td>\n",
              "      <td>699.000</td>\n",
              "      <td>649.000</td>\n",
              "    </tr>\n",
              "  </tbody>\n",
              "</table>\n",
              "</div>\n",
              "    <div class=\"colab-df-buttons\">\n",
              "\n",
              "  <div class=\"colab-df-container\">\n",
              "    <button class=\"colab-df-convert\" onclick=\"convertToInteractive('df-60f7751d-bd73-4e18-a8f5-ce6eaa07d073')\"\n",
              "            title=\"Convert this dataframe to an interactive table.\"\n",
              "            style=\"display:none;\">\n",
              "\n",
              "  <svg xmlns=\"http://www.w3.org/2000/svg\" height=\"24px\" viewBox=\"0 -960 960 960\">\n",
              "    <path d=\"M120-120v-720h720v720H120Zm60-500h600v-160H180v160Zm220 220h160v-160H400v160Zm0 220h160v-160H400v160ZM180-400h160v-160H180v160Zm440 0h160v-160H620v160ZM180-180h160v-160H180v160Zm440 0h160v-160H620v160Z\"/>\n",
              "  </svg>\n",
              "    </button>\n",
              "\n",
              "  <style>\n",
              "    .colab-df-container {\n",
              "      display:flex;\n",
              "      gap: 12px;\n",
              "    }\n",
              "\n",
              "    .colab-df-convert {\n",
              "      background-color: #E8F0FE;\n",
              "      border: none;\n",
              "      border-radius: 50%;\n",
              "      cursor: pointer;\n",
              "      display: none;\n",
              "      fill: #1967D2;\n",
              "      height: 32px;\n",
              "      padding: 0 0 0 0;\n",
              "      width: 32px;\n",
              "    }\n",
              "\n",
              "    .colab-df-convert:hover {\n",
              "      background-color: #E2EBFA;\n",
              "      box-shadow: 0px 1px 2px rgba(60, 64, 67, 0.3), 0px 1px 3px 1px rgba(60, 64, 67, 0.15);\n",
              "      fill: #174EA6;\n",
              "    }\n",
              "\n",
              "    .colab-df-buttons div {\n",
              "      margin-bottom: 4px;\n",
              "    }\n",
              "\n",
              "    [theme=dark] .colab-df-convert {\n",
              "      background-color: #3B4455;\n",
              "      fill: #D2E3FC;\n",
              "    }\n",
              "\n",
              "    [theme=dark] .colab-df-convert:hover {\n",
              "      background-color: #434B5C;\n",
              "      box-shadow: 0px 1px 3px 1px rgba(0, 0, 0, 0.15);\n",
              "      filter: drop-shadow(0px 1px 2px rgba(0, 0, 0, 0.3));\n",
              "      fill: #FFFFFF;\n",
              "    }\n",
              "  </style>\n",
              "\n",
              "    <script>\n",
              "      const buttonEl =\n",
              "        document.querySelector('#df-60f7751d-bd73-4e18-a8f5-ce6eaa07d073 button.colab-df-convert');\n",
              "      buttonEl.style.display =\n",
              "        google.colab.kernel.accessAllowed ? 'block' : 'none';\n",
              "\n",
              "      async function convertToInteractive(key) {\n",
              "        const element = document.querySelector('#df-60f7751d-bd73-4e18-a8f5-ce6eaa07d073');\n",
              "        const dataTable =\n",
              "          await google.colab.kernel.invokeFunction('convertToInteractive',\n",
              "                                                    [key], {});\n",
              "        if (!dataTable) return;\n",
              "\n",
              "        const docLinkHtml = 'Like what you see? Visit the ' +\n",
              "          '<a target=\"_blank\" href=https://colab.research.google.com/notebooks/data_table.ipynb>data table notebook</a>'\n",
              "          + ' to learn more about interactive tables.';\n",
              "        element.innerHTML = '';\n",
              "        dataTable['output_type'] = 'display_data';\n",
              "        await google.colab.output.renderOutput(dataTable, element);\n",
              "        const docLink = document.createElement('div');\n",
              "        docLink.innerHTML = docLinkHtml;\n",
              "        element.appendChild(docLink);\n",
              "      }\n",
              "    </script>\n",
              "  </div>\n",
              "\n",
              "\n",
              "<div id=\"df-a3fd1d4a-a8d5-4b59-ae38-4d5b0e52f742\">\n",
              "  <button class=\"colab-df-quickchart\" onclick=\"quickchart('df-a3fd1d4a-a8d5-4b59-ae38-4d5b0e52f742')\"\n",
              "            title=\"Suggest charts\"\n",
              "            style=\"display:none;\">\n",
              "\n",
              "<svg xmlns=\"http://www.w3.org/2000/svg\" height=\"24px\"viewBox=\"0 0 24 24\"\n",
              "     width=\"24px\">\n",
              "    <g>\n",
              "        <path d=\"M19 3H5c-1.1 0-2 .9-2 2v14c0 1.1.9 2 2 2h14c1.1 0 2-.9 2-2V5c0-1.1-.9-2-2-2zM9 17H7v-7h2v7zm4 0h-2V7h2v10zm4 0h-2v-4h2v4z\"/>\n",
              "    </g>\n",
              "</svg>\n",
              "  </button>\n",
              "\n",
              "<style>\n",
              "  .colab-df-quickchart {\n",
              "      --bg-color: #E8F0FE;\n",
              "      --fill-color: #1967D2;\n",
              "      --hover-bg-color: #E2EBFA;\n",
              "      --hover-fill-color: #174EA6;\n",
              "      --disabled-fill-color: #AAA;\n",
              "      --disabled-bg-color: #DDD;\n",
              "  }\n",
              "\n",
              "  [theme=dark] .colab-df-quickchart {\n",
              "      --bg-color: #3B4455;\n",
              "      --fill-color: #D2E3FC;\n",
              "      --hover-bg-color: #434B5C;\n",
              "      --hover-fill-color: #FFFFFF;\n",
              "      --disabled-bg-color: #3B4455;\n",
              "      --disabled-fill-color: #666;\n",
              "  }\n",
              "\n",
              "  .colab-df-quickchart {\n",
              "    background-color: var(--bg-color);\n",
              "    border: none;\n",
              "    border-radius: 50%;\n",
              "    cursor: pointer;\n",
              "    display: none;\n",
              "    fill: var(--fill-color);\n",
              "    height: 32px;\n",
              "    padding: 0;\n",
              "    width: 32px;\n",
              "  }\n",
              "\n",
              "  .colab-df-quickchart:hover {\n",
              "    background-color: var(--hover-bg-color);\n",
              "    box-shadow: 0 1px 2px rgba(60, 64, 67, 0.3), 0 1px 3px 1px rgba(60, 64, 67, 0.15);\n",
              "    fill: var(--button-hover-fill-color);\n",
              "  }\n",
              "\n",
              "  .colab-df-quickchart-complete:disabled,\n",
              "  .colab-df-quickchart-complete:disabled:hover {\n",
              "    background-color: var(--disabled-bg-color);\n",
              "    fill: var(--disabled-fill-color);\n",
              "    box-shadow: none;\n",
              "  }\n",
              "\n",
              "  .colab-df-spinner {\n",
              "    border: 2px solid var(--fill-color);\n",
              "    border-color: transparent;\n",
              "    border-bottom-color: var(--fill-color);\n",
              "    animation:\n",
              "      spin 1s steps(1) infinite;\n",
              "  }\n",
              "\n",
              "  @keyframes spin {\n",
              "    0% {\n",
              "      border-color: transparent;\n",
              "      border-bottom-color: var(--fill-color);\n",
              "      border-left-color: var(--fill-color);\n",
              "    }\n",
              "    20% {\n",
              "      border-color: transparent;\n",
              "      border-left-color: var(--fill-color);\n",
              "      border-top-color: var(--fill-color);\n",
              "    }\n",
              "    30% {\n",
              "      border-color: transparent;\n",
              "      border-left-color: var(--fill-color);\n",
              "      border-top-color: var(--fill-color);\n",
              "      border-right-color: var(--fill-color);\n",
              "    }\n",
              "    40% {\n",
              "      border-color: transparent;\n",
              "      border-right-color: var(--fill-color);\n",
              "      border-top-color: var(--fill-color);\n",
              "    }\n",
              "    60% {\n",
              "      border-color: transparent;\n",
              "      border-right-color: var(--fill-color);\n",
              "    }\n",
              "    80% {\n",
              "      border-color: transparent;\n",
              "      border-right-color: var(--fill-color);\n",
              "      border-bottom-color: var(--fill-color);\n",
              "    }\n",
              "    90% {\n",
              "      border-color: transparent;\n",
              "      border-bottom-color: var(--fill-color);\n",
              "    }\n",
              "  }\n",
              "</style>\n",
              "\n",
              "  <script>\n",
              "    async function quickchart(key) {\n",
              "      const quickchartButtonEl =\n",
              "        document.querySelector('#' + key + ' button');\n",
              "      quickchartButtonEl.disabled = true;  // To prevent multiple clicks.\n",
              "      quickchartButtonEl.classList.add('colab-df-spinner');\n",
              "      try {\n",
              "        const charts = await google.colab.kernel.invokeFunction(\n",
              "            'suggestCharts', [key], {});\n",
              "      } catch (error) {\n",
              "        console.error('Error during call to suggestCharts:', error);\n",
              "      }\n",
              "      quickchartButtonEl.classList.remove('colab-df-spinner');\n",
              "      quickchartButtonEl.classList.add('colab-df-quickchart-complete');\n",
              "    }\n",
              "    (() => {\n",
              "      let quickchartButtonEl =\n",
              "        document.querySelector('#df-a3fd1d4a-a8d5-4b59-ae38-4d5b0e52f742 button');\n",
              "      quickchartButtonEl.style.display =\n",
              "        google.colab.kernel.accessAllowed ? 'block' : 'none';\n",
              "    })();\n",
              "  </script>\n",
              "</div>\n",
              "\n",
              "    </div>\n",
              "  </div>\n"
            ],
            "application/vnd.google.colaboratory.intrinsic+json": {
              "type": "dataframe",
              "variable_name": "data",
              "summary": "{\n  \"name\": \"data\",\n  \"rows\": 44,\n  \"fields\": [\n    {\n      \"column\": \"GPU Model\",\n      \"properties\": {\n        \"dtype\": \"string\",\n        \"num_unique_values\": 44,\n        \"samples\": [\n          \"Radeon RX 6500 XT\",\n          \"Radeon RX 7700 XT\",\n          \"Radeon RX 7600 XT\"\n        ],\n        \"semantic_type\": \"\",\n        \"description\": \"\"\n      }\n    },\n    {\n      \"column\": \"Best US Price\",\n      \"properties\": {\n        \"dtype\": \"number\",\n        \"std\": 268.3272733840177,\n        \"min\": 1.029,\n        \"max\": 982.0,\n        \"num_unique_values\": 39,\n        \"samples\": [\n          139.0,\n          199.0,\n          699.0\n        ],\n        \"semantic_type\": \"\",\n        \"description\": \"\"\n      }\n    },\n    {\n      \"column\": \"Lowest-Ever US Price\",\n      \"properties\": {\n        \"dtype\": \"number\",\n        \"std\": 273.4760812862641,\n        \"min\": 1.005,\n        \"max\": 989.0,\n        \"num_unique_values\": 40,\n        \"samples\": [\n          879.0,\n          299.0,\n          354.0\n        ],\n        \"semantic_type\": \"\",\n        \"description\": \"\"\n      }\n    }\n  ]\n}"
            }
          },
          "metadata": {},
          "execution_count": 210
        }
      ]
    },
    {
      "cell_type": "code",
      "source": [
        "# Ensure columns are strings, remove commas, and convert to numeric\n",
        "data['Best US Price'] = data['Best US Price'].astype(str).str.replace(',', '').astype(float)\n",
        "data['Lowest-Ever US Price'] = data['Lowest-Ever US Price'].astype(str).str.replace(',', '').astype(float)\n",
        "print(data.head())"
      ],
      "metadata": {
        "colab": {
          "base_uri": "https://localhost:8080/"
        },
        "id": "vhpggfz_EO8a",
        "outputId": "f5a52b30-8e17-41a4-e15b-529ba12c9bd9"
      },
      "execution_count": 211,
      "outputs": [
        {
          "output_type": "stream",
          "name": "stdout",
          "text": [
            "                   GPU Model  Best US Price  Lowest-Ever US Price\n",
            "0           GeForce RTX 4090          1.699                 1.599\n",
            "1     GeForce RTX 4080 Super        982.000               982.000\n",
            "2           GeForce RTX 4080          1.029               989.000\n",
            "3  GeForce RTX 4070 Ti Super        749.000               749.000\n",
            "4        GeForce RTX 4070 Ti        699.000               649.000\n"
          ]
        }
      ]
    },
    {
      "cell_type": "code",
      "source": [
        "data.dtypes"
      ],
      "metadata": {
        "colab": {
          "base_uri": "https://localhost:8080/"
        },
        "id": "ejiQCgxUE-nt",
        "outputId": "fcbe8dcf-5920-4427-f9bd-72d2cc9d5abd"
      },
      "execution_count": 212,
      "outputs": [
        {
          "output_type": "execute_result",
          "data": {
            "text/plain": [
              "GPU Model                object\n",
              "Best US Price           float64\n",
              "Lowest-Ever US Price    float64\n",
              "dtype: object"
            ]
          },
          "metadata": {},
          "execution_count": 212
        }
      ]
    },
    {
      "cell_type": "code",
      "source": [
        "# Normalize the price columns\n",
        "scaler = MinMaxScaler()\n",
        "data[['Best US Price', 'Lowest-Ever US Price']] = scaler.fit_transform(data[['Best US Price', 'Lowest-Ever US Price']])"
      ],
      "metadata": {
        "id": "GNRoJmWWEfhc"
      },
      "execution_count": 213,
      "outputs": []
    },
    {
      "cell_type": "code",
      "source": [
        "# Prepare the data\n",
        "X = data[['Best US Price']].values\n",
        "y = data['Lowest-Ever US Price'].values"
      ],
      "metadata": {
        "id": "QVOkqfhvEk4T"
      },
      "execution_count": 214,
      "outputs": []
    },
    {
      "cell_type": "code",
      "source": [
        "# Split the data into training and testing sets\n",
        "X_train, X_test, y_train, y_test = train_test_split(X, y, test_size=0.2, random_state=seed_value)"
      ],
      "metadata": {
        "id": "gfOKYduaEoLN"
      },
      "execution_count": 215,
      "outputs": []
    },
    {
      "cell_type": "code",
      "source": [
        "# Build the KNN model\n",
        "from sklearn.neighbors import KNeighborsRegressor\n",
        "knn = KNeighborsRegressor(n_neighbors=5)\n",
        "knn.fit(X_train, y_train)"
      ],
      "metadata": {
        "colab": {
          "base_uri": "https://localhost:8080/",
          "height": 75
        },
        "id": "T83lneUfFm71",
        "outputId": "2d068d88-e572-4145-e489-06c37bb33f59"
      },
      "execution_count": 216,
      "outputs": [
        {
          "output_type": "execute_result",
          "data": {
            "text/plain": [
              "KNeighborsRegressor()"
            ],
            "text/html": [
              "<style>#sk-container-id-14 {color: black;background-color: white;}#sk-container-id-14 pre{padding: 0;}#sk-container-id-14 div.sk-toggleable {background-color: white;}#sk-container-id-14 label.sk-toggleable__label {cursor: pointer;display: block;width: 100%;margin-bottom: 0;padding: 0.3em;box-sizing: border-box;text-align: center;}#sk-container-id-14 label.sk-toggleable__label-arrow:before {content: \"▸\";float: left;margin-right: 0.25em;color: #696969;}#sk-container-id-14 label.sk-toggleable__label-arrow:hover:before {color: black;}#sk-container-id-14 div.sk-estimator:hover label.sk-toggleable__label-arrow:before {color: black;}#sk-container-id-14 div.sk-toggleable__content {max-height: 0;max-width: 0;overflow: hidden;text-align: left;background-color: #f0f8ff;}#sk-container-id-14 div.sk-toggleable__content pre {margin: 0.2em;color: black;border-radius: 0.25em;background-color: #f0f8ff;}#sk-container-id-14 input.sk-toggleable__control:checked~div.sk-toggleable__content {max-height: 200px;max-width: 100%;overflow: auto;}#sk-container-id-14 input.sk-toggleable__control:checked~label.sk-toggleable__label-arrow:before {content: \"▾\";}#sk-container-id-14 div.sk-estimator input.sk-toggleable__control:checked~label.sk-toggleable__label {background-color: #d4ebff;}#sk-container-id-14 div.sk-label input.sk-toggleable__control:checked~label.sk-toggleable__label {background-color: #d4ebff;}#sk-container-id-14 input.sk-hidden--visually {border: 0;clip: rect(1px 1px 1px 1px);clip: rect(1px, 1px, 1px, 1px);height: 1px;margin: -1px;overflow: hidden;padding: 0;position: absolute;width: 1px;}#sk-container-id-14 div.sk-estimator {font-family: monospace;background-color: #f0f8ff;border: 1px dotted black;border-radius: 0.25em;box-sizing: border-box;margin-bottom: 0.5em;}#sk-container-id-14 div.sk-estimator:hover {background-color: #d4ebff;}#sk-container-id-14 div.sk-parallel-item::after {content: \"\";width: 100%;border-bottom: 1px solid gray;flex-grow: 1;}#sk-container-id-14 div.sk-label:hover label.sk-toggleable__label {background-color: #d4ebff;}#sk-container-id-14 div.sk-serial::before {content: \"\";position: absolute;border-left: 1px solid gray;box-sizing: border-box;top: 0;bottom: 0;left: 50%;z-index: 0;}#sk-container-id-14 div.sk-serial {display: flex;flex-direction: column;align-items: center;background-color: white;padding-right: 0.2em;padding-left: 0.2em;position: relative;}#sk-container-id-14 div.sk-item {position: relative;z-index: 1;}#sk-container-id-14 div.sk-parallel {display: flex;align-items: stretch;justify-content: center;background-color: white;position: relative;}#sk-container-id-14 div.sk-item::before, #sk-container-id-14 div.sk-parallel-item::before {content: \"\";position: absolute;border-left: 1px solid gray;box-sizing: border-box;top: 0;bottom: 0;left: 50%;z-index: -1;}#sk-container-id-14 div.sk-parallel-item {display: flex;flex-direction: column;z-index: 1;position: relative;background-color: white;}#sk-container-id-14 div.sk-parallel-item:first-child::after {align-self: flex-end;width: 50%;}#sk-container-id-14 div.sk-parallel-item:last-child::after {align-self: flex-start;width: 50%;}#sk-container-id-14 div.sk-parallel-item:only-child::after {width: 0;}#sk-container-id-14 div.sk-dashed-wrapped {border: 1px dashed gray;margin: 0 0.4em 0.5em 0.4em;box-sizing: border-box;padding-bottom: 0.4em;background-color: white;}#sk-container-id-14 div.sk-label label {font-family: monospace;font-weight: bold;display: inline-block;line-height: 1.2em;}#sk-container-id-14 div.sk-label-container {text-align: center;}#sk-container-id-14 div.sk-container {/* jupyter's `normalize.less` sets `[hidden] { display: none; }` but bootstrap.min.css set `[hidden] { display: none !important; }` so we also need the `!important` here to be able to override the default hidden behavior on the sphinx rendered scikit-learn.org. See: https://github.com/scikit-learn/scikit-learn/issues/21755 */display: inline-block !important;position: relative;}#sk-container-id-14 div.sk-text-repr-fallback {display: none;}</style><div id=\"sk-container-id-14\" class=\"sk-top-container\"><div class=\"sk-text-repr-fallback\"><pre>KNeighborsRegressor()</pre><b>In a Jupyter environment, please rerun this cell to show the HTML representation or trust the notebook. <br />On GitHub, the HTML representation is unable to render, please try loading this page with nbviewer.org.</b></div><div class=\"sk-container\" hidden><div class=\"sk-item\"><div class=\"sk-estimator sk-toggleable\"><input class=\"sk-toggleable__control sk-hidden--visually\" id=\"sk-estimator-id-14\" type=\"checkbox\" checked><label for=\"sk-estimator-id-14\" class=\"sk-toggleable__label sk-toggleable__label-arrow\">KNeighborsRegressor</label><div class=\"sk-toggleable__content\"><pre>KNeighborsRegressor()</pre></div></div></div></div></div>"
            ]
          },
          "metadata": {},
          "execution_count": 216
        }
      ]
    },
    {
      "cell_type": "code",
      "source": [
        "# Evaluate the KNN model\n",
        "y_pred_knn = knn.predict(X_test)\n",
        "mae_knn = mean_absolute_error(y_test, y_pred_knn)\n",
        "r2_knn = r2_score(y_test, y_pred_knn)\n",
        "print(f'Mean Absolute Error (KNN): {mae_knn}')\n",
        "print(f'R-squared (KNN): {r2_knn * 100:.2f}%')"
      ],
      "metadata": {
        "colab": {
          "base_uri": "https://localhost:8080/"
        },
        "id": "bbs7KaG8Foz8",
        "outputId": "2ce3e0e6-7756-443d-87d4-26cb5dd2d3d1"
      },
      "execution_count": 217,
      "outputs": [
        {
          "output_type": "stream",
          "name": "stdout",
          "text": [
            "Mean Absolute Error (KNN): 0.02714813558997992\n",
            "R-squared (KNN): 97.78%\n"
          ]
        }
      ]
    },
    {
      "cell_type": "code",
      "source": [
        "# Build the Deep Learning model\n",
        "model = Sequential()\n",
        "model.add(Dense(64, input_dim=X_train.shape[1], activation='relu'))\n",
        "model.add(Dense(32, activation='relu'))\n",
        "model.add(Dense(1))"
      ],
      "metadata": {
        "id": "zv-8sRUfrh-O"
      },
      "execution_count": 218,
      "outputs": []
    },
    {
      "cell_type": "code",
      "source": [
        "# Compile the model\n",
        "model.compile(optimizer='adam', loss='mean_absolute_error')"
      ],
      "metadata": {
        "id": "49jV7Nz6rki6"
      },
      "execution_count": 219,
      "outputs": []
    },
    {
      "cell_type": "code",
      "source": [
        "# Train the model\n",
        "history = model.fit(X_train, y_train, epochs=50, validation_split=0.2, verbose=1)"
      ],
      "metadata": {
        "colab": {
          "base_uri": "https://localhost:8080/"
        },
        "id": "M6rPsiRBrlyq",
        "outputId": "9aa65abe-238d-4dac-e009-45d2b4fa1abd"
      },
      "execution_count": 220,
      "outputs": [
        {
          "output_type": "stream",
          "name": "stdout",
          "text": [
            "Epoch 1/50\n",
            "1/1 [==============================] - 1s 1s/step - loss: 0.4788 - val_loss: 0.4744\n",
            "Epoch 2/50\n",
            "1/1 [==============================] - 0s 78ms/step - loss: 0.4658 - val_loss: 0.4613\n",
            "Epoch 3/50\n",
            "1/1 [==============================] - 0s 67ms/step - loss: 0.4541 - val_loss: 0.4489\n",
            "Epoch 4/50\n",
            "1/1 [==============================] - 0s 60ms/step - loss: 0.4429 - val_loss: 0.4374\n",
            "Epoch 5/50\n",
            "1/1 [==============================] - 0s 47ms/step - loss: 0.4325 - val_loss: 0.4263\n",
            "Epoch 6/50\n",
            "1/1 [==============================] - 0s 46ms/step - loss: 0.4227 - val_loss: 0.4158\n",
            "Epoch 7/50\n",
            "1/1 [==============================] - 0s 55ms/step - loss: 0.4133 - val_loss: 0.4053\n",
            "Epoch 8/50\n",
            "1/1 [==============================] - 0s 47ms/step - loss: 0.4040 - val_loss: 0.3949\n",
            "Epoch 9/50\n",
            "1/1 [==============================] - 0s 44ms/step - loss: 0.3950 - val_loss: 0.3848\n",
            "Epoch 10/50\n",
            "1/1 [==============================] - 0s 66ms/step - loss: 0.3857 - val_loss: 0.3747\n",
            "Epoch 11/50\n",
            "1/1 [==============================] - 0s 58ms/step - loss: 0.3764 - val_loss: 0.3645\n",
            "Epoch 12/50\n",
            "1/1 [==============================] - 0s 77ms/step - loss: 0.3670 - val_loss: 0.3542\n",
            "Epoch 13/50\n",
            "1/1 [==============================] - 0s 53ms/step - loss: 0.3575 - val_loss: 0.3439\n",
            "Epoch 14/50\n",
            "1/1 [==============================] - 0s 36ms/step - loss: 0.3480 - val_loss: 0.3335\n",
            "Epoch 15/50\n",
            "1/1 [==============================] - 0s 36ms/step - loss: 0.3385 - val_loss: 0.3230\n",
            "Epoch 16/50\n",
            "1/1 [==============================] - 0s 36ms/step - loss: 0.3290 - val_loss: 0.3124\n",
            "Epoch 17/50\n",
            "1/1 [==============================] - 0s 38ms/step - loss: 0.3194 - val_loss: 0.3017\n",
            "Epoch 18/50\n",
            "1/1 [==============================] - 0s 39ms/step - loss: 0.3098 - val_loss: 0.2909\n",
            "Epoch 19/50\n",
            "1/1 [==============================] - 0s 42ms/step - loss: 0.3002 - val_loss: 0.2800\n",
            "Epoch 20/50\n",
            "1/1 [==============================] - 0s 38ms/step - loss: 0.2906 - val_loss: 0.2690\n",
            "Epoch 21/50\n",
            "1/1 [==============================] - 0s 37ms/step - loss: 0.2811 - val_loss: 0.2580\n",
            "Epoch 22/50\n",
            "1/1 [==============================] - 0s 44ms/step - loss: 0.2716 - val_loss: 0.2482\n",
            "Epoch 23/50\n",
            "1/1 [==============================] - 0s 51ms/step - loss: 0.2621 - val_loss: 0.2390\n",
            "Epoch 24/50\n",
            "1/1 [==============================] - 0s 42ms/step - loss: 0.2526 - val_loss: 0.2298\n",
            "Epoch 25/50\n",
            "1/1 [==============================] - 0s 43ms/step - loss: 0.2430 - val_loss: 0.2223\n",
            "Epoch 26/50\n",
            "1/1 [==============================] - 0s 44ms/step - loss: 0.2334 - val_loss: 0.2150\n",
            "Epoch 27/50\n",
            "1/1 [==============================] - 0s 60ms/step - loss: 0.2238 - val_loss: 0.2076\n",
            "Epoch 28/50\n",
            "1/1 [==============================] - 0s 43ms/step - loss: 0.2142 - val_loss: 0.2001\n",
            "Epoch 29/50\n",
            "1/1 [==============================] - 0s 42ms/step - loss: 0.2055 - val_loss: 0.1926\n",
            "Epoch 30/50\n",
            "1/1 [==============================] - 0s 45ms/step - loss: 0.1975 - val_loss: 0.1851\n",
            "Epoch 31/50\n",
            "1/1 [==============================] - 0s 44ms/step - loss: 0.1895 - val_loss: 0.1776\n",
            "Epoch 32/50\n",
            "1/1 [==============================] - 0s 54ms/step - loss: 0.1817 - val_loss: 0.1702\n",
            "Epoch 33/50\n",
            "1/1 [==============================] - 0s 46ms/step - loss: 0.1743 - val_loss: 0.1628\n",
            "Epoch 34/50\n",
            "1/1 [==============================] - 0s 43ms/step - loss: 0.1675 - val_loss: 0.1570\n",
            "Epoch 35/50\n",
            "1/1 [==============================] - 0s 38ms/step - loss: 0.1619 - val_loss: 0.1523\n",
            "Epoch 36/50\n",
            "1/1 [==============================] - 0s 34ms/step - loss: 0.1574 - val_loss: 0.1477\n",
            "Epoch 37/50\n",
            "1/1 [==============================] - 0s 35ms/step - loss: 0.1534 - val_loss: 0.1430\n",
            "Epoch 38/50\n",
            "1/1 [==============================] - 0s 38ms/step - loss: 0.1494 - val_loss: 0.1383\n",
            "Epoch 39/50\n",
            "1/1 [==============================] - 0s 34ms/step - loss: 0.1463 - val_loss: 0.1337\n",
            "Epoch 40/50\n",
            "1/1 [==============================] - 0s 36ms/step - loss: 0.1440 - val_loss: 0.1291\n",
            "Epoch 41/50\n",
            "1/1 [==============================] - 0s 34ms/step - loss: 0.1417 - val_loss: 0.1244\n",
            "Epoch 42/50\n",
            "1/1 [==============================] - 0s 37ms/step - loss: 0.1397 - val_loss: 0.1199\n",
            "Epoch 43/50\n",
            "1/1 [==============================] - 0s 44ms/step - loss: 0.1379 - val_loss: 0.1154\n",
            "Epoch 44/50\n",
            "1/1 [==============================] - 0s 45ms/step - loss: 0.1362 - val_loss: 0.1111\n",
            "Epoch 45/50\n",
            "1/1 [==============================] - 0s 60ms/step - loss: 0.1342 - val_loss: 0.1081\n",
            "Epoch 46/50\n",
            "1/1 [==============================] - 0s 42ms/step - loss: 0.1321 - val_loss: 0.1066\n",
            "Epoch 47/50\n",
            "1/1 [==============================] - 0s 59ms/step - loss: 0.1302 - val_loss: 0.1050\n",
            "Epoch 48/50\n",
            "1/1 [==============================] - 0s 39ms/step - loss: 0.1286 - val_loss: 0.1033\n",
            "Epoch 49/50\n",
            "1/1 [==============================] - 0s 35ms/step - loss: 0.1269 - val_loss: 0.1014\n",
            "Epoch 50/50\n",
            "1/1 [==============================] - 0s 37ms/step - loss: 0.1254 - val_loss: 0.0999\n"
          ]
        }
      ]
    },
    {
      "cell_type": "code",
      "source": [
        "# Evaluate the Deep Learning model\n",
        "y_pred_dl = model.predict(X_test)\n",
        "mae_dl = mean_absolute_error(y_test, y_pred_dl)\n",
        "r2_dl = r2_score(y_test, y_pred_dl)\n",
        "print(f'Mean Absolute Error (Deep Learning): {mae_dl}')\n",
        "print(f'R-squared (Deep Learning): {r2_dl * 100:.2f}%')"
      ],
      "metadata": {
        "colab": {
          "base_uri": "https://localhost:8080/"
        },
        "id": "CM2kRQFirnl6",
        "outputId": "19833a9e-d678-4924-86a4-ab5b7500da3b"
      },
      "execution_count": 221,
      "outputs": [
        {
          "output_type": "stream",
          "name": "stdout",
          "text": [
            "1/1 [==============================] - 0s 70ms/step\n",
            "Mean Absolute Error (Deep Learning): 0.08815834986294312\n",
            "R-squared (Deep Learning): 80.20%\n"
          ]
        }
      ]
    },
    {
      "cell_type": "code",
      "source": [
        "# Scatter plot of actual vs predicted for KNN\n",
        "plt.figure(figsize=(10, 6))\n",
        "plt.scatter(y_test, y_pred_knn)\n",
        "plt.plot([0, 1], [0, 1], color='red', linestyle='--')\n",
        "plt.title('Actual vs Predicted (KNN)')\n",
        "plt.xlabel('Actual Lowest-Ever US Price')\n",
        "plt.ylabel('Predicted Lowest-Ever US Price')\n",
        "plt.show()"
      ],
      "metadata": {
        "colab": {
          "base_uri": "https://localhost:8080/",
          "height": 564
        },
        "id": "tdHOhtzzFq59",
        "outputId": "727702e8-3cb4-464a-d067-379c667e19be"
      },
      "execution_count": 222,
      "outputs": [
        {
          "output_type": "display_data",
          "data": {
            "text/plain": [
              "<Figure size 1000x600 with 1 Axes>"
            ],
            "image/png": "[encoded data removed]"
          },
          "metadata": {}
        }
      ]
    },
    {
      "cell_type": "code",
      "source": [
        "# Scatter plot of actual vs predicted for Deep Learning\n",
        "plt.figure(figsize=(10, 6))\n",
        "plt.scatter(y_test, y_pred_dl)\n",
        "plt.plot([0, 1], [0, 1], color='red', linestyle='--')\n",
        "plt.title('Actual vs Predicted (Deep Learning)')\n",
        "plt.xlabel('Actual Lowest-Ever US Price')\n",
        "plt.ylabel('Predicted Lowest-Ever US Price')\n",
        "plt.show()"
      ],
      "metadata": {
        "colab": {
          "base_uri": "https://localhost:8080/",
          "height": 564
        },
        "id": "jtpMShNiru4D",
        "outputId": "1a18f21a-d3c5-46af-a2c3-73f7a4c6d8af"
      },
      "execution_count": 223,
      "outputs": [
        {
          "output_type": "display_data",
          "data": {
            "text/plain": [
              "<Figure size 1000x600 with 1 Axes>"
            ],
            "image/png": "[encoded data removed]"
          },
          "metadata": {}
        }
      ]
    }
  ]
}